{
 "cells": [
  {
   "cell_type": "code",
   "execution_count": null,
   "metadata": {},
   "outputs": [],
   "source": [
    "from transformers import GPT2Tokenizer"
   ]
  },
  {
   "cell_type": "code",
   "execution_count": 1,
   "metadata": {},
   "outputs": [
    {
     "data": {
      "text/plain": [
       "(4891050, 882833)"
      ]
     },
     "execution_count": 1,
     "metadata": {},
     "output_type": "execute_result"
    }
   ],
   "source": [
    "with open('./data/interim/all.txt', encoding='utf-8') as f: content = f.read()\n",
    "len(content), len(content.split())"
   ]
  },
  {
   "cell_type": "code",
   "execution_count": null,
   "metadata": {},
   "outputs": [],
   "source": [
    "tokenizer = GPT2Tokenizer.from_pretrained(\"gpt2\")\n",
    "tokenizer.add_special_tokens({'additional_special_tokens': ['<EPISODE_START>', '<EPISODE_END>', 'chandler', 'joey', 'rachel', 'ross', 'monica', 'phoebe', 'mike', 'gunther', 'mr. geller', 'mrs. geller', 'janice']})"
   ]
  },
  {
   "cell_type": "code",
   "execution_count": null,
   "metadata": {},
   "outputs": [],
   "source": [
    "tokens = tokenizer.encode(content)"
   ]
  },
  {
   "cell_type": "code",
   "execution_count": 2,
   "metadata": {},
   "outputs": [],
   "source": [
    "content = content.replace('...', '…').replace('^', '').replace('\\'', '\"').replace('`', '\"').replace('”', '\"').replace('“', '\"').replace('’', '\"').replace('‘', '\"').replace('#', '').replace('@', '').replace('+', '').replace('*', '').replace('|', '').replace(chr(160), ' ').replace(chr(173), '-').replace('ç', 'c').replace('è', 'e').replace('é', 'e').replace('í', 'i').replace('–', '-').replace('—', '-').replace(';', '.').replace('=', '')\n",
    "content = content.replace('<EPISODE_START>', '~').replace('<EPISODE_END>', '|').replace('<', '').replace('>', '').replace('_', '').replace('~', '<EPISODE_START>').replace('|', '<EPISODE_END>')"
   ]
  },
  {
   "cell_type": "code",
   "execution_count": 3,
   "metadata": {},
   "outputs": [
    {
     "data": {
      "text/plain": [
       "['\\n',\n",
       " ' ',\n",
       " '!',\n",
       " '\"',\n",
       " '$',\n",
       " '%',\n",
       " '&',\n",
       " '(',\n",
       " ')',\n",
       " ',',\n",
       " '-',\n",
       " '.',\n",
       " '/',\n",
       " '0',\n",
       " '1',\n",
       " '2',\n",
       " '3',\n",
       " '4',\n",
       " '5',\n",
       " '6',\n",
       " '7',\n",
       " '8',\n",
       " '9',\n",
       " ':',\n",
       " '?',\n",
       " 'A',\n",
       " 'D',\n",
       " 'E',\n",
       " 'I',\n",
       " 'N',\n",
       " 'O',\n",
       " 'P',\n",
       " 'R',\n",
       " 'S',\n",
       " 'T',\n",
       " '[',\n",
       " ']',\n",
       " 'a',\n",
       " 'b',\n",
       " 'c',\n",
       " 'd',\n",
       " 'e',\n",
       " 'f',\n",
       " 'g',\n",
       " 'h',\n",
       " 'i',\n",
       " 'j',\n",
       " 'k',\n",
       " 'l',\n",
       " 'm',\n",
       " 'n',\n",
       " 'o',\n",
       " 'p',\n",
       " 'q',\n",
       " 'r',\n",
       " 's',\n",
       " 't',\n",
       " 'u',\n",
       " 'v',\n",
       " 'w',\n",
       " 'x',\n",
       " 'y',\n",
       " 'z',\n",
       " '{',\n",
       " '}',\n",
       " '…',\n",
       " '<EPISODE_START>',\n",
       " '<EPISODE_END>',\n",
       " 'chandler',\n",
       " 'joey',\n",
       " 'rachel',\n",
       " 'ross',\n",
       " 'monica',\n",
       " 'phoebe',\n",
       " 'mike',\n",
       " 'gunther',\n",
       " 'mr. geller',\n",
       " 'mrs. geller',\n",
       " 'janice']"
      ]
     },
     "execution_count": 3,
     "metadata": {},
     "output_type": "execute_result"
    }
   ],
   "source": [
    "chars = sorted(list(set(content)))\n",
    "special_tokens = ['<EPISODE_START>', '<EPISODE_END>', 'chandler', 'joey', 'rachel', 'ross', 'monica', 'phoebe', 'mike', 'gunther', 'mr. geller', 'mrs. geller', 'janice']\n",
    "for ch in special_tokens: chars.append(ch)\n",
    "chars.remove('<')\n",
    "chars.remove('>')\n",
    "chars.remove('_')\n",
    "# chars = [char for char in chars if not char.isupper()]\n",
    "vocab_size = len(chars)\n",
    "# v = ''.join(chars)\n",
    "# for i in v: print(ord(i), i)\n",
    "# print(''.join(chars))\n",
    "# print(vocab_size)\n",
    "chars"
   ]
  },
  {
   "cell_type": "code",
   "execution_count": 51,
   "metadata": {},
   "outputs": [],
   "source": [
    "stoi = {ch : i for i,ch in enumerate(chars)}\n",
    "itos = {i: ch for i,ch in enumerate(chars)}\n",
    "encode = lambda s: [stoi[c] for c in s] # from a string output a list of integers\n",
    "decode = lambda l : ''.join(itos[i] for i in l) # from a list of inegers output "
   ]
  },
  {
   "cell_type": "code",
   "execution_count": 52,
   "metadata": {},
   "outputs": [
    {
     "data": {
      "text/plain": [
       "{'\\n': 0,\n",
       " ' ': 1,\n",
       " '!': 2,\n",
       " '\"': 3,\n",
       " '#': 4,\n",
       " '$': 5,\n",
       " '%': 6,\n",
       " '&': 7,\n",
       " \"'\": 8,\n",
       " '(': 9,\n",
       " ')': 10,\n",
       " '*': 11,\n",
       " '+': 12,\n",
       " ',': 13,\n",
       " '-': 14,\n",
       " '.': 15,\n",
       " '/': 16,\n",
       " '0': 17,\n",
       " '1': 18,\n",
       " '2': 19,\n",
       " '3': 20,\n",
       " '4': 21,\n",
       " '5': 22,\n",
       " '6': 23,\n",
       " '7': 24,\n",
       " '8': 25,\n",
       " '9': 26,\n",
       " ':': 27,\n",
       " ';': 28,\n",
       " '<': 29,\n",
       " '=': 30,\n",
       " '>': 31,\n",
       " '?': 32,\n",
       " '@': 33,\n",
       " 'A': 34,\n",
       " 'D': 35,\n",
       " 'E': 36,\n",
       " 'I': 37,\n",
       " 'N': 38,\n",
       " 'O': 39,\n",
       " 'P': 40,\n",
       " 'R': 41,\n",
       " 'S': 42,\n",
       " 'T': 43,\n",
       " '[': 44,\n",
       " ']': 45,\n",
       " '^': 46,\n",
       " '`': 47,\n",
       " 'a': 48,\n",
       " 'b': 49,\n",
       " 'c': 50,\n",
       " 'd': 51,\n",
       " 'e': 52,\n",
       " 'f': 53,\n",
       " 'g': 54,\n",
       " 'h': 55,\n",
       " 'i': 56,\n",
       " 'j': 57,\n",
       " 'k': 58,\n",
       " 'l': 59,\n",
       " 'm': 60,\n",
       " 'n': 61,\n",
       " 'o': 62,\n",
       " 'p': 63,\n",
       " 'q': 64,\n",
       " 'r': 65,\n",
       " 's': 66,\n",
       " 't': 67,\n",
       " 'u': 68,\n",
       " 'v': 69,\n",
       " 'w': 70,\n",
       " 'x': 71,\n",
       " 'y': 72,\n",
       " 'z': 73,\n",
       " '{': 74,\n",
       " '|': 75,\n",
       " '}': 76,\n",
       " '\\xa0': 77,\n",
       " '\\xad': 78,\n",
       " 'ç': 79,\n",
       " 'è': 80,\n",
       " 'é': 81,\n",
       " 'í': 82,\n",
       " '–': 83,\n",
       " '—': 84,\n",
       " '‘': 85,\n",
       " '’': 86,\n",
       " '“': 87,\n",
       " '”': 88,\n",
       " '…': 89,\n",
       " '<EPISODE_START>': 90,\n",
       " '<EPISODE_END>': 91,\n",
       " 'chandler': 92,\n",
       " 'joey': 93,\n",
       " 'rachel': 94,\n",
       " 'ross': 95,\n",
       " 'monica': 96,\n",
       " 'phoebe': 97,\n",
       " 'mike': 98,\n",
       " 'gunther': 99,\n",
       " 'mr. geller': 100,\n",
       " 'mrs. geller': 101,\n",
       " 'janice': 102}"
      ]
     },
     "execution_count": 52,
     "metadata": {},
     "output_type": "execute_result"
    }
   ],
   "source": [
    "stoi"
   ]
  },
  {
   "cell_type": "code",
   "execution_count": 53,
   "metadata": {},
   "outputs": [
    {
     "ename": "KeyError",
     "evalue": "'_'",
     "output_type": "error",
     "traceback": [
      "\u001b[1;31m---------------------------------------------------------------------------\u001b[0m",
      "\u001b[1;31mKeyError\u001b[0m                                  Traceback (most recent call last)",
      "Cell \u001b[1;32mIn[53], line 3\u001b[0m\n\u001b[0;32m      1\u001b[0m \u001b[38;5;28;01mwith\u001b[39;00m \u001b[38;5;28mopen\u001b[39m(\u001b[38;5;124m'\u001b[39m\u001b[38;5;124m./data/interim/all.txt\u001b[39m\u001b[38;5;124m'\u001b[39m, encoding\u001b[38;5;241m=\u001b[39m\u001b[38;5;124m'\u001b[39m\u001b[38;5;124mutf-8\u001b[39m\u001b[38;5;124m'\u001b[39m, errors\u001b[38;5;241m=\u001b[39m\u001b[38;5;124m'\u001b[39m\u001b[38;5;124mignore\u001b[39m\u001b[38;5;124m'\u001b[39m) \u001b[38;5;28;01mas\u001b[39;00m f: content \u001b[38;5;241m=\u001b[39m f\u001b[38;5;241m.\u001b[39mread()\n\u001b[1;32m----> 3\u001b[0m \u001b[38;5;28mprint\u001b[39m(\u001b[43mencode\u001b[49m\u001b[43m(\u001b[49m\u001b[43mcontent\u001b[49m\u001b[43m)\u001b[49m)\n",
      "Cell \u001b[1;32mIn[51], line 3\u001b[0m, in \u001b[0;36m<lambda>\u001b[1;34m(s)\u001b[0m\n\u001b[0;32m      1\u001b[0m stoi \u001b[38;5;241m=\u001b[39m {ch : i \u001b[38;5;28;01mfor\u001b[39;00m i,ch \u001b[38;5;129;01min\u001b[39;00m \u001b[38;5;28menumerate\u001b[39m(chars)}\n\u001b[0;32m      2\u001b[0m itos \u001b[38;5;241m=\u001b[39m {i: ch \u001b[38;5;28;01mfor\u001b[39;00m i,ch \u001b[38;5;129;01min\u001b[39;00m \u001b[38;5;28menumerate\u001b[39m(chars)}\n\u001b[1;32m----> 3\u001b[0m encode \u001b[38;5;241m=\u001b[39m \u001b[38;5;28;01mlambda\u001b[39;00m s: [\u001b[43mstoi\u001b[49m\u001b[43m[\u001b[49m\u001b[43mc\u001b[49m\u001b[43m]\u001b[49m \u001b[38;5;28;01mfor\u001b[39;00m c \u001b[38;5;129;01min\u001b[39;00m s] \u001b[38;5;66;03m# from a string output a list of integers\u001b[39;00m\n\u001b[0;32m      4\u001b[0m decode \u001b[38;5;241m=\u001b[39m \u001b[38;5;28;01mlambda\u001b[39;00m l : \u001b[38;5;124m'\u001b[39m\u001b[38;5;124m'\u001b[39m\u001b[38;5;241m.\u001b[39mjoin(itos[i] \u001b[38;5;28;01mfor\u001b[39;00m i \u001b[38;5;129;01min\u001b[39;00m l) \u001b[38;5;66;03m# from a list of inegers output \u001b[39;00m\n",
      "\u001b[1;31mKeyError\u001b[0m: '_'"
     ]
    }
   ],
   "source": [
    "with open('./data/interim/all.txt', encoding='utf-8', errors='ignore') as f: content = f.read()\n",
    "\n",
    "print(encode(content))\n"
   ]
  },
  {
   "cell_type": "code",
   "execution_count": null,
   "metadata": {},
   "outputs": [],
   "source": []
  }
 ],
 "metadata": {
  "kernelspec": {
   "display_name": "Python 3",
   "language": "python",
   "name": "python3"
  },
  "language_info": {
   "codemirror_mode": {
    "name": "ipython",
    "version": 3
   },
   "file_extension": ".py",
   "mimetype": "text/x-python",
   "name": "python",
   "nbconvert_exporter": "python",
   "pygments_lexer": "ipython3",
   "version": "3.12.2"
  }
 },
 "nbformat": 4,
 "nbformat_minor": 2
}
