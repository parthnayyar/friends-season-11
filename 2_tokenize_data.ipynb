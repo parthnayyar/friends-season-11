{
 "cells": [
  {
   "cell_type": "code",
   "execution_count": 31,
   "metadata": {},
   "outputs": [],
   "source": [
    "import torch\n",
    "import pickle\n",
    "from encoder import Encoder"
   ]
  },
  {
   "cell_type": "code",
   "execution_count": 1,
   "metadata": {},
   "outputs": [
    {
     "data": {
      "text/plain": [
       "(4891050, 882833)"
      ]
     },
     "execution_count": 1,
     "metadata": {},
     "output_type": "execute_result"
    }
   ],
   "source": [
    "with open('./data/interim/all.txt', encoding='utf-8') as f: content = f.read()\n",
    "len(content), len(content.split())"
   ]
  },
  {
   "cell_type": "code",
   "execution_count": 2,
   "metadata": {},
   "outputs": [],
   "source": [
    "content = content.replace('...', '…').replace('^', '').replace('`', '\\'').replace('”', '\"').replace('“', '\"').replace('’', '\\'').replace('‘', '\\'').replace('#', '').replace('@', '').replace('+', '').replace('*', '').replace('|', '').replace(chr(160), ' ').replace(chr(173), '-').replace('ç', 'c').replace('è', 'e').replace('é', 'e').replace('í', 'i').replace('–', '-').replace('—', '-').replace(';', '.').replace('=', '').replace('<EPISODE_START>', '~').replace('<EPISODE_END>', '|').replace('<', '').replace('>', '').replace('_', '').replace('~', '<EPISODE_START>').replace('|', '<EPISODE_END>')"
   ]
  },
  {
   "cell_type": "code",
   "execution_count": 3,
   "metadata": {},
   "outputs": [],
   "source": [
    "tokens = sorted(list(set(content)))\n",
    "special_tokens = ['mike', 'gunther', 'mr. geller', 'mrs. geller', 'janice', 'chandler', 'joey', 'rachel', 'ross', 'monica', 'phoebe', '<EPISODE_END>', '<EPISODE_START>']\n",
    "for token in special_tokens: tokens.insert(0, token)\n",
    "tokens.remove('<')\n",
    "tokens.remove('>')\n",
    "tokens.remove('_')\n",
    "tokens = [token for token in tokens if token in ['<EPISODE_START>', '<EPISODE_END>'] or not token.isupper()]"
   ]
  },
  {
   "cell_type": "code",
   "execution_count": 30,
   "metadata": {},
   "outputs": [],
   "source": [
    "encoder = Encoder(tokens)\n",
    "with open('./data/interim/encoder.pkl', 'wb') as f: pickle.dump(encoder, f)"
   ]
  },
  {
   "cell_type": "code",
   "execution_count": 24,
   "metadata": {},
   "outputs": [],
   "source": [
    "data = torch.tensor(encoder.encode(content), dtype=torch.long)\n",
    "train_size = 0.9\n",
    "train_data = data[:int(train_size*len(data))]\n",
    "test_data = data[int(train_size*len(data)):]\n",
    "torch.save(train_data, './data/interim/train.pt')\n",
    "torch.save(test_data, './data/interim/test.pt')"
   ]
  }
 ],
 "metadata": {
  "kernelspec": {
   "display_name": "Python 3",
   "language": "python",
   "name": "python3"
  },
  "language_info": {
   "codemirror_mode": {
    "name": "ipython",
    "version": 3
   },
   "file_extension": ".py",
   "mimetype": "text/x-python",
   "name": "python",
   "nbconvert_exporter": "python",
   "pygments_lexer": "ipython3",
   "version": "3.12.2"
  }
 },
 "nbformat": 4,
 "nbformat_minor": 2
}
